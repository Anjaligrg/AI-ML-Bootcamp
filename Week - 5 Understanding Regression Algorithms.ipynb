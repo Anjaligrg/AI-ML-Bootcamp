{
 "cells": [
  {
   "cell_type": "markdown",
   "id": "5b2e2950",
   "metadata": {},
   "source": [
    "# Understanding Regression Algorithms"
   ]
  },
  {
   "cell_type": "markdown",
   "id": "a5ffa0a6",
   "metadata": {},
   "source": [
    "Regression algorithms are a type of supervised learning algorithm that predict continuous output values. The goal of regression is to find the relationship between independent variables (features) and dependent variables (target). These algorithms are useful for tasks like predicting prices, temperatures, salaries, or other real-valued outputs.\n",
    "\n",
    "Here are some key regression algorithms:\n",
    "\n",
    "- Linear Regression: Finds the best-fitting straight line through the data.\n",
    "- Random Forest Regression: Uses multiple decision trees and averages their predictions to improve accuracy and reduce overfitting.\n",
    "- Gradient Boosting Regression: Builds an ensemble of weak models (often decision trees) sequentially, where each new model corrects the errors made by previous models."
   ]
  },
  {
   "cell_type": "markdown",
   "id": "e5938b7c",
   "metadata": {},
   "source": [
    "### Scenario: Predicting Employee Salaries Based on Experience and Education\n"
   ]
  },
  {
   "cell_type": "code",
   "execution_count": 1,
   "id": "8a499256",
   "metadata": {},
   "outputs": [],
   "source": [
    "# Import necessary libraries\n",
    "import numpy as np\n",
    "import pandas as pd\n",
    "import matplotlib.pyplot as plt\n",
    "from sklearn.model_selection import train_test_split\n",
    "from sklearn.linear_model import LinearRegression\n",
    "from sklearn.metrics import mean_squared_error, r2_score"
   ]
  },
  {
   "cell_type": "markdown",
   "id": "4710670f",
   "metadata": {},
   "source": [
    "1. Dataset Creation:\n",
    "\n",
    "We create a simple synthetic dataset with columns for Experience, Education_Level (Bachelor's, Master's, or PhD), and Salary.\n"
   ]
  },
  {
   "cell_type": "code",
   "execution_count": 3,
   "id": "37f5c04d",
   "metadata": {
    "collapsed": true
   },
   "outputs": [
    {
     "data": {
      "text/html": [
       "<div>\n",
       "<style scoped>\n",
       "    .dataframe tbody tr th:only-of-type {\n",
       "        vertical-align: middle;\n",
       "    }\n",
       "\n",
       "    .dataframe tbody tr th {\n",
       "        vertical-align: top;\n",
       "    }\n",
       "\n",
       "    .dataframe thead th {\n",
       "        text-align: right;\n",
       "    }\n",
       "</style>\n",
       "<table border=\"1\" class=\"dataframe\">\n",
       "  <thead>\n",
       "    <tr style=\"text-align: right;\">\n",
       "      <th></th>\n",
       "      <th>Experience</th>\n",
       "      <th>Education_Level</th>\n",
       "      <th>Salary</th>\n",
       "    </tr>\n",
       "  </thead>\n",
       "  <tbody>\n",
       "    <tr>\n",
       "      <th>0</th>\n",
       "      <td>1</td>\n",
       "      <td>1</td>\n",
       "      <td>30000</td>\n",
       "    </tr>\n",
       "    <tr>\n",
       "      <th>1</th>\n",
       "      <td>2</td>\n",
       "      <td>1</td>\n",
       "      <td>35000</td>\n",
       "    </tr>\n",
       "    <tr>\n",
       "      <th>2</th>\n",
       "      <td>3</td>\n",
       "      <td>1</td>\n",
       "      <td>40000</td>\n",
       "    </tr>\n",
       "    <tr>\n",
       "      <th>3</th>\n",
       "      <td>4</td>\n",
       "      <td>2</td>\n",
       "      <td>50000</td>\n",
       "    </tr>\n",
       "    <tr>\n",
       "      <th>4</th>\n",
       "      <td>5</td>\n",
       "      <td>2</td>\n",
       "      <td>55000</td>\n",
       "    </tr>\n",
       "    <tr>\n",
       "      <th>5</th>\n",
       "      <td>6</td>\n",
       "      <td>2</td>\n",
       "      <td>60000</td>\n",
       "    </tr>\n",
       "    <tr>\n",
       "      <th>6</th>\n",
       "      <td>7</td>\n",
       "      <td>3</td>\n",
       "      <td>70000</td>\n",
       "    </tr>\n",
       "    <tr>\n",
       "      <th>7</th>\n",
       "      <td>8</td>\n",
       "      <td>3</td>\n",
       "      <td>75000</td>\n",
       "    </tr>\n",
       "    <tr>\n",
       "      <th>8</th>\n",
       "      <td>9</td>\n",
       "      <td>3</td>\n",
       "      <td>80000</td>\n",
       "    </tr>\n",
       "    <tr>\n",
       "      <th>9</th>\n",
       "      <td>10</td>\n",
       "      <td>3</td>\n",
       "      <td>85000</td>\n",
       "    </tr>\n",
       "    <tr>\n",
       "      <th>10</th>\n",
       "      <td>11</td>\n",
       "      <td>3</td>\n",
       "      <td>90000</td>\n",
       "    </tr>\n",
       "    <tr>\n",
       "      <th>11</th>\n",
       "      <td>12</td>\n",
       "      <td>3</td>\n",
       "      <td>95000</td>\n",
       "    </tr>\n",
       "  </tbody>\n",
       "</table>\n",
       "</div>"
      ],
      "text/plain": [
       "    Experience  Education_Level  Salary\n",
       "0            1                1   30000\n",
       "1            2                1   35000\n",
       "2            3                1   40000\n",
       "3            4                2   50000\n",
       "4            5                2   55000\n",
       "5            6                2   60000\n",
       "6            7                3   70000\n",
       "7            8                3   75000\n",
       "8            9                3   80000\n",
       "9           10                3   85000\n",
       "10          11                3   90000\n",
       "11          12                3   95000"
      ]
     },
     "execution_count": 3,
     "metadata": {},
     "output_type": "execute_result"
    }
   ],
   "source": [
    "# Step 1: Create a Synthetic Dataset\n",
    "# Creating a dataset with Years of Experience, Education Level, and Salary\n",
    "\n",
    "data = {\n",
    "    'Experience': [1, 2, 3, 4, 5, 6, 7, 8, 9, 10, 11, 12],\n",
    "    'Education_Level': [1, 1, 1, 2, 2, 2, 3, 3, 3, 3, 3, 3],  # 1: Bachelor's, 2: Master's, 3: PhD\n",
    "    'Salary': [30000, 35000, 40000, 50000, 55000, 60000, 70000, 75000, 80000, 85000, 90000, 95000]\n",
    "}\n",
    "\n",
    "df = pd.DataFrame(data)\n",
    "df"
   ]
  },
  {
   "cell_type": "code",
   "execution_count": 4,
   "id": "8fa61d2e",
   "metadata": {
    "collapsed": true
   },
   "outputs": [
    {
     "name": "stdout",
     "output_type": "stream",
     "text": [
      "    Experience  Education_Level  Salary\n",
      "0            1                1   30000\n",
      "1            2                1   35000\n",
      "2            3                1   40000\n",
      "3            4                2   50000\n",
      "4            5                2   55000\n",
      "5            6                2   60000\n",
      "6            7                3   70000\n",
      "7            8                3   75000\n",
      "8            9                3   80000\n",
      "9           10                3   85000\n",
      "10          11                3   90000\n",
      "11          12                3   95000\n"
     ]
    }
   ],
   "source": [
    "# Display the dataset\n",
    "print(df)"
   ]
  },
  {
   "cell_type": "markdown",
   "id": "1e23f39d",
   "metadata": {},
   "source": [
    "2. Data Preprocessing:\n",
    "\n",
    "We split the dataset into features (Experience, Education_Level) and the target variable (Salary).\n",
    "We then split the dataset into training and test sets to train the model on one part of the data and test its performance on unseen data."
   ]
  },
  {
   "cell_type": "code",
   "execution_count": 5,
   "id": "dba03c92",
   "metadata": {},
   "outputs": [],
   "source": [
    "# Step 2: Data Preprocessing (In this case, the data is already clean)\n",
    "X = df[['Experience', 'Education_Level']]  # Features\n",
    "y = df['Salary']  # Target"
   ]
  },
  {
   "cell_type": "code",
   "execution_count": 6,
   "id": "ce397c71",
   "metadata": {},
   "outputs": [],
   "source": [
    "# Split the data into training and test sets (80% training, 20% testing)\n",
    "X_train, X_test, y_train, y_test = train_test_split(X, y, test_size=0.2, random_state=42)"
   ]
  },
  {
   "cell_type": "markdown",
   "id": "43c42077",
   "metadata": {},
   "source": [
    "3. Model Training:\n",
    "\n",
    "We use Linear Regression, which is part of Scikit-Learn, to train our model on the training data."
   ]
  },
  {
   "cell_type": "code",
   "execution_count": 7,
   "id": "14df7ab3",
   "metadata": {},
   "outputs": [
    {
     "data": {
      "text/html": [
       "<style>#sk-container-id-1 {color: black;}#sk-container-id-1 pre{padding: 0;}#sk-container-id-1 div.sk-toggleable {background-color: white;}#sk-container-id-1 label.sk-toggleable__label {cursor: pointer;display: block;width: 100%;margin-bottom: 0;padding: 0.3em;box-sizing: border-box;text-align: center;}#sk-container-id-1 label.sk-toggleable__label-arrow:before {content: \"▸\";float: left;margin-right: 0.25em;color: #696969;}#sk-container-id-1 label.sk-toggleable__label-arrow:hover:before {color: black;}#sk-container-id-1 div.sk-estimator:hover label.sk-toggleable__label-arrow:before {color: black;}#sk-container-id-1 div.sk-toggleable__content {max-height: 0;max-width: 0;overflow: hidden;text-align: left;background-color: #f0f8ff;}#sk-container-id-1 div.sk-toggleable__content pre {margin: 0.2em;color: black;border-radius: 0.25em;background-color: #f0f8ff;}#sk-container-id-1 input.sk-toggleable__control:checked~div.sk-toggleable__content {max-height: 200px;max-width: 100%;overflow: auto;}#sk-container-id-1 input.sk-toggleable__control:checked~label.sk-toggleable__label-arrow:before {content: \"▾\";}#sk-container-id-1 div.sk-estimator input.sk-toggleable__control:checked~label.sk-toggleable__label {background-color: #d4ebff;}#sk-container-id-1 div.sk-label input.sk-toggleable__control:checked~label.sk-toggleable__label {background-color: #d4ebff;}#sk-container-id-1 input.sk-hidden--visually {border: 0;clip: rect(1px 1px 1px 1px);clip: rect(1px, 1px, 1px, 1px);height: 1px;margin: -1px;overflow: hidden;padding: 0;position: absolute;width: 1px;}#sk-container-id-1 div.sk-estimator {font-family: monospace;background-color: #f0f8ff;border: 1px dotted black;border-radius: 0.25em;box-sizing: border-box;margin-bottom: 0.5em;}#sk-container-id-1 div.sk-estimator:hover {background-color: #d4ebff;}#sk-container-id-1 div.sk-parallel-item::after {content: \"\";width: 100%;border-bottom: 1px solid gray;flex-grow: 1;}#sk-container-id-1 div.sk-label:hover label.sk-toggleable__label {background-color: #d4ebff;}#sk-container-id-1 div.sk-serial::before {content: \"\";position: absolute;border-left: 1px solid gray;box-sizing: border-box;top: 0;bottom: 0;left: 50%;z-index: 0;}#sk-container-id-1 div.sk-serial {display: flex;flex-direction: column;align-items: center;background-color: white;padding-right: 0.2em;padding-left: 0.2em;position: relative;}#sk-container-id-1 div.sk-item {position: relative;z-index: 1;}#sk-container-id-1 div.sk-parallel {display: flex;align-items: stretch;justify-content: center;background-color: white;position: relative;}#sk-container-id-1 div.sk-item::before, #sk-container-id-1 div.sk-parallel-item::before {content: \"\";position: absolute;border-left: 1px solid gray;box-sizing: border-box;top: 0;bottom: 0;left: 50%;z-index: -1;}#sk-container-id-1 div.sk-parallel-item {display: flex;flex-direction: column;z-index: 1;position: relative;background-color: white;}#sk-container-id-1 div.sk-parallel-item:first-child::after {align-self: flex-end;width: 50%;}#sk-container-id-1 div.sk-parallel-item:last-child::after {align-self: flex-start;width: 50%;}#sk-container-id-1 div.sk-parallel-item:only-child::after {width: 0;}#sk-container-id-1 div.sk-dashed-wrapped {border: 1px dashed gray;margin: 0 0.4em 0.5em 0.4em;box-sizing: border-box;padding-bottom: 0.4em;background-color: white;}#sk-container-id-1 div.sk-label label {font-family: monospace;font-weight: bold;display: inline-block;line-height: 1.2em;}#sk-container-id-1 div.sk-label-container {text-align: center;}#sk-container-id-1 div.sk-container {/* jupyter's `normalize.less` sets `[hidden] { display: none; }` but bootstrap.min.css set `[hidden] { display: none !important; }` so we also need the `!important` here to be able to override the default hidden behavior on the sphinx rendered scikit-learn.org. See: https://github.com/scikit-learn/scikit-learn/issues/21755 */display: inline-block !important;position: relative;}#sk-container-id-1 div.sk-text-repr-fallback {display: none;}</style><div id=\"sk-container-id-1\" class=\"sk-top-container\"><div class=\"sk-text-repr-fallback\"><pre>LinearRegression()</pre><b>In a Jupyter environment, please rerun this cell to show the HTML representation or trust the notebook. <br />On GitHub, the HTML representation is unable to render, please try loading this page with nbviewer.org.</b></div><div class=\"sk-container\" hidden><div class=\"sk-item\"><div class=\"sk-estimator sk-toggleable\"><input class=\"sk-toggleable__control sk-hidden--visually\" id=\"sk-estimator-id-1\" type=\"checkbox\" checked><label for=\"sk-estimator-id-1\" class=\"sk-toggleable__label sk-toggleable__label-arrow\">LinearRegression</label><div class=\"sk-toggleable__content\"><pre>LinearRegression()</pre></div></div></div></div></div>"
      ],
      "text/plain": [
       "LinearRegression()"
      ]
     },
     "execution_count": 7,
     "metadata": {},
     "output_type": "execute_result"
    }
   ],
   "source": [
    "# Step 3: Train a Linear Regression Model\n",
    "model = LinearRegression()\n",
    "model.fit(X_train, y_train)"
   ]
  },
  {
   "cell_type": "markdown",
   "id": "099d17a9",
   "metadata": {},
   "source": [
    "4. Model Evaluation:\n",
    "\n",
    "We calculate the Mean Squared Error (MSE) and R-squared (R²) value to evaluate how well the model is predicting salaries.\n",
    "The R-squared value indicates how much of the variance in the dependent variable (salary) is explained by the independent variables (experience and education level). An R² value close to 1 means a good fit."
   ]
  },
  {
   "cell_type": "code",
   "execution_count": 8,
   "id": "b09dc20a",
   "metadata": {},
   "outputs": [],
   "source": [
    "# Step 4: Evaluate the Model\n",
    "y_pred = model.predict(X_test)"
   ]
  },
  {
   "cell_type": "code",
   "execution_count": 10,
   "id": "59ba3fb3",
   "metadata": {},
   "outputs": [
    {
     "name": "stdout",
     "output_type": "stream",
     "text": [
      "Mean Squared Error: 3.970466940254533e-23\n",
      "R-squared Value: 1.0\n"
     ]
    }
   ],
   "source": [
    "# Calculate Mean Squared Error and R-squared\n",
    "mse = mean_squared_error(y_test, y_pred)\n",
    "r2 = r2_score(y_test, y_pred)\n",
    "print(f\"Mean Squared Error: {mse}\")\n",
    "print(f\"R-squared Value: {r2}\")\n"
   ]
  },
  {
   "cell_type": "markdown",
   "id": "3d9b3209",
   "metadata": {},
   "source": [
    "5. Prediction:\n",
    "\n",
    "We use the trained model to predict the salary of an employee with 5 years of experience and a Master's degree. The predicted salary is displayed."
   ]
  },
  {
   "cell_type": "code",
   "execution_count": 11,
   "id": "a6c14cc0",
   "metadata": {},
   "outputs": [
    {
     "name": "stdout",
     "output_type": "stream",
     "text": [
      "Predicted salary for an employee with 5 years of experience and a Master's degree: $55,000.00\n"
     ]
    },
    {
     "name": "stderr",
     "output_type": "stream",
     "text": [
      "/Users/devarsh/anaconda3/lib/python3.11/site-packages/sklearn/base.py:464: UserWarning: X does not have valid feature names, but LinearRegression was fitted with feature names\n",
      "  warnings.warn(\n"
     ]
    }
   ],
   "source": [
    "# Step 5: Make Predictions for New Data\n",
    "# Predict the salary for an employee with 5 years of experience and a Master's degree (Education Level = 2)\n",
    "new_employee = [[5, 2]]\n",
    "predicted_salary = model.predict(new_employee)\n",
    "print(f\"Predicted salary for an employee with 5 years of experience and a Master's degree: ${predicted_salary[0]:,.2f}\")\n"
   ]
  },
  {
   "cell_type": "markdown",
   "id": "178ba00c",
   "metadata": {},
   "source": [
    "6. Visualization:\n",
    "\n",
    "We plot a scatter plot showing the relationship between Experience and Salary, with the actual salaries shown in blue and the predicted line shown in red."
   ]
  },
  {
   "cell_type": "code",
   "execution_count": 12,
   "id": "ab44e845",
   "metadata": {},
   "outputs": [
    {
     "data": {
      "image/png": "[encoded data removed]",
      "text/plain": [
       "<Figure size 640x480 with 1 Axes>"
      ]
     },
     "metadata": {},
     "output_type": "display_data"
    }
   ],
   "source": [
    "# Visualize the relationship between Experience, Education, and Salary\n",
    "plt.scatter(df['Experience'], df['Salary'], color='blue', label='Actual')\n",
    "plt.plot(df['Experience'], model.predict(X), color='red', label='Predicted')\n",
    "plt.xlabel('Experience (Years)')\n",
    "plt.ylabel('Salary ($)')\n",
    "plt.title('Salary vs Experience')\n",
    "plt.legend()\n",
    "plt.show()"
   ]
  },
  {
   "cell_type": "markdown",
   "id": "73bc1999",
   "metadata": {},
   "source": [
    "\n",
    "- The output will include:\n",
    "    - A Mean Squared Error indicating the average squared difference between actual and predicted salaries.\n",
    "    - An R-squared value to assess the model’s goodness of fit.\n",
    "    - The predicted salary for an employee with 5 years of experience and a Master's degree.\n",
    "    - A scatter plot showing how experience correlates with salary.\n",
    "\n",
    "\n",
    "- Expected Results:\n",
    "    - A lower MSE and higher R-squared value suggest the model is performing well.\n",
    "    - The plot should show that as experience increases, the salary also increases, with the predicted values close to the actual values.\n",
    "\n",
    "\n",
    "- Conclusion:\n",
    "    - By using linear regression, we can model the relationship between experience, education level, and salary. The simplicity of this algorithm allows us to make useful predictions and understand how different factors influence salary."
   ]
  },
  {
   "cell_type": "code",
   "execution_count": null,
   "id": "0244b911",
   "metadata": {},
   "outputs": [],
   "source": []
  }
 ],
 "metadata": {
  "kernelspec": {
   "display_name": "Python 3 (ipykernel)",
   "language": "python",
   "name": "python3"
  },
  "language_info": {
   "codemirror_mode": {
    "name": "ipython",
    "version": 3
   },
   "file_extension": ".py",
   "mimetype": "text/x-python",
   "name": "python",
   "nbconvert_exporter": "python",
   "pygments_lexer": "ipython3",
   "version": "3.11.5"
  }
 },
 "nbformat": 4,
 "nbformat_minor": 5
}
