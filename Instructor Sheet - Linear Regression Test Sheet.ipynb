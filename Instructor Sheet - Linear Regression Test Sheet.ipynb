{
 "cells": [
  {
   "cell_type": "markdown",
   "id": "c31258fc",
   "metadata": {},
   "source": [
    "# Test Sheet: Predicting Employee Salaries Based on Experience and Education Using Linear Regression"
   ]
  },
  {
   "cell_type": "markdown",
   "id": "8c7587af",
   "metadata": {},
   "source": [
    "- Objective\n",
    "In this assignment, you will build and evaluate a Linear Regression model to predict employee salaries based on their years of experience and education level. You will use Python's Scikit-Learn library to train the model, assess its performance, and make salary predictions.<br><br>\n",
    "\n",
    "- Scenario\n",
    "A company wants to determine an employee's salary based on their years of experience and education level. The company has historical data on employees’ salaries, experience, and education. Your task is to create a model that accurately predicts employee salaries using this information.<br><br>\n",
    "\n",
    "- Features (Inputs):\n",
    "    - Years of Experience: (e.g., 1, 5, 10, etc.)<br>\n",
    "    - Education Level:<br>\n",
    "        - 1 for Bachelor's<br>\n",
    "        - 2 for Master's<br>\n",
    "        - 3 for PhD<br>\n",
    "- Target (Output):<br>\n",
    "Salary: (continuous value in dollars)<br>\n"
   ]
  },
  {
   "cell_type": "markdown",
   "id": "893fb0b5",
   "metadata": {},
   "source": [
    "## Instructions\n",
    "### 1. Generate or Load Data:\n",
    "- Generate a synthetic dataset with the following columns:\n",
    "    - experience: Years of experience (integer values, e.g., 1 to 20).\n",
    "    - education_level: Education level (1 for Bachelor's, 2 for Master's, 3 for PhD).\n",
    "    - salary: Continuous salary value (target variable)."
   ]
  },
  {
   "cell_type": "code",
   "execution_count": 1,
   "id": "8835160a",
   "metadata": {},
   "outputs": [
    {
     "data": {
      "text/html": [
       "<div>\n",
       "<style scoped>\n",
       "    .dataframe tbody tr th:only-of-type {\n",
       "        vertical-align: middle;\n",
       "    }\n",
       "\n",
       "    .dataframe tbody tr th {\n",
       "        vertical-align: top;\n",
       "    }\n",
       "\n",
       "    .dataframe thead th {\n",
       "        text-align: right;\n",
       "    }\n",
       "</style>\n",
       "<table border=\"1\" class=\"dataframe\">\n",
       "  <thead>\n",
       "    <tr style=\"text-align: right;\">\n",
       "      <th></th>\n",
       "      <th>experience</th>\n",
       "      <th>education_level</th>\n",
       "      <th>salary</th>\n",
       "    </tr>\n",
       "  </thead>\n",
       "  <tbody>\n",
       "    <tr>\n",
       "      <th>0</th>\n",
       "      <td>7</td>\n",
       "      <td>3</td>\n",
       "      <td>48126.453962</td>\n",
       "    </tr>\n",
       "    <tr>\n",
       "      <th>1</th>\n",
       "      <td>20</td>\n",
       "      <td>2</td>\n",
       "      <td>77892.508898</td>\n",
       "    </tr>\n",
       "    <tr>\n",
       "      <th>2</th>\n",
       "      <td>15</td>\n",
       "      <td>3</td>\n",
       "      <td>76699.104821</td>\n",
       "    </tr>\n",
       "    <tr>\n",
       "      <th>3</th>\n",
       "      <td>11</td>\n",
       "      <td>3</td>\n",
       "      <td>62963.099250</td>\n",
       "    </tr>\n",
       "    <tr>\n",
       "      <th>4</th>\n",
       "      <td>8</td>\n",
       "      <td>1</td>\n",
       "      <td>37836.484194</td>\n",
       "    </tr>\n",
       "  </tbody>\n",
       "</table>\n",
       "</div>"
      ],
      "text/plain": [
       "   experience  education_level        salary\n",
       "0           7                3  48126.453962\n",
       "1          20                2  77892.508898\n",
       "2          15                3  76699.104821\n",
       "3          11                3  62963.099250\n",
       "4           8                1  37836.484194"
      ]
     },
     "execution_count": 1,
     "metadata": {},
     "output_type": "execute_result"
    }
   ],
   "source": [
    "import numpy as np\n",
    "import pandas as pd\n",
    "\n",
    "# Generate synthetic data\n",
    "np.random.seed(42)\n",
    "experience = np.random.randint(1, 21, size=100)\n",
    "education_level = np.random.choice([1, 2, 3], size=100)\n",
    "salary = (experience * 3000) + (education_level * 10000) + np.random.normal(0, 5000, 100)\n",
    "\n",
    "# Create DataFrame\n",
    "df = pd.DataFrame({\n",
    "    'experience': experience,\n",
    "    'education_level': education_level,\n",
    "    'salary': salary\n",
    "})\n",
    "\n",
    "df.head()"
   ]
  },
  {
   "cell_type": "markdown",
   "id": "d08159c8",
   "metadata": {},
   "source": [
    "### 2. Data Preprocessing:\n",
    "- Split the dataset into features (experience, education_level) and target (salary).\n",
    "- Perform an 80/20 split to create training and test datasets."
   ]
  },
  {
   "cell_type": "code",
   "execution_count": 2,
   "id": "a7107222",
   "metadata": {},
   "outputs": [],
   "source": [
    "from sklearn.model_selection import train_test_split\n",
    "\n",
    "# Features (X) and target (y)\n",
    "X = df[['experience', 'education_level']]\n",
    "y = df['salary']\n",
    "\n",
    "# Split the dataset\n",
    "X_train, X_test, y_train, y_test = train_test_split(X, y, test_size=0.2, random_state=42)\n"
   ]
  },
  {
   "cell_type": "markdown",
   "id": "9f89f977",
   "metadata": {},
   "source": [
    "### 3. Train the Linear Regression Model:\n",
    "Train a Linear Regression model on the training data."
   ]
  },
  {
   "cell_type": "code",
   "execution_count": 3,
   "id": "0b603db0",
   "metadata": {},
   "outputs": [
    {
     "data": {
      "text/html": [
       "<style>#sk-container-id-1 {color: black;}#sk-container-id-1 pre{padding: 0;}#sk-container-id-1 div.sk-toggleable {background-color: white;}#sk-container-id-1 label.sk-toggleable__label {cursor: pointer;display: block;width: 100%;margin-bottom: 0;padding: 0.3em;box-sizing: border-box;text-align: center;}#sk-container-id-1 label.sk-toggleable__label-arrow:before {content: \"▸\";float: left;margin-right: 0.25em;color: #696969;}#sk-container-id-1 label.sk-toggleable__label-arrow:hover:before {color: black;}#sk-container-id-1 div.sk-estimator:hover label.sk-toggleable__label-arrow:before {color: black;}#sk-container-id-1 div.sk-toggleable__content {max-height: 0;max-width: 0;overflow: hidden;text-align: left;background-color: #f0f8ff;}#sk-container-id-1 div.sk-toggleable__content pre {margin: 0.2em;color: black;border-radius: 0.25em;background-color: #f0f8ff;}#sk-container-id-1 input.sk-toggleable__control:checked~div.sk-toggleable__content {max-height: 200px;max-width: 100%;overflow: auto;}#sk-container-id-1 input.sk-toggleable__control:checked~label.sk-toggleable__label-arrow:before {content: \"▾\";}#sk-container-id-1 div.sk-estimator input.sk-toggleable__control:checked~label.sk-toggleable__label {background-color: #d4ebff;}#sk-container-id-1 div.sk-label input.sk-toggleable__control:checked~label.sk-toggleable__label {background-color: #d4ebff;}#sk-container-id-1 input.sk-hidden--visually {border: 0;clip: rect(1px 1px 1px 1px);clip: rect(1px, 1px, 1px, 1px);height: 1px;margin: -1px;overflow: hidden;padding: 0;position: absolute;width: 1px;}#sk-container-id-1 div.sk-estimator {font-family: monospace;background-color: #f0f8ff;border: 1px dotted black;border-radius: 0.25em;box-sizing: border-box;margin-bottom: 0.5em;}#sk-container-id-1 div.sk-estimator:hover {background-color: #d4ebff;}#sk-container-id-1 div.sk-parallel-item::after {content: \"\";width: 100%;border-bottom: 1px solid gray;flex-grow: 1;}#sk-container-id-1 div.sk-label:hover label.sk-toggleable__label {background-color: #d4ebff;}#sk-container-id-1 div.sk-serial::before {content: \"\";position: absolute;border-left: 1px solid gray;box-sizing: border-box;top: 0;bottom: 0;left: 50%;z-index: 0;}#sk-container-id-1 div.sk-serial {display: flex;flex-direction: column;align-items: center;background-color: white;padding-right: 0.2em;padding-left: 0.2em;position: relative;}#sk-container-id-1 div.sk-item {position: relative;z-index: 1;}#sk-container-id-1 div.sk-parallel {display: flex;align-items: stretch;justify-content: center;background-color: white;position: relative;}#sk-container-id-1 div.sk-item::before, #sk-container-id-1 div.sk-parallel-item::before {content: \"\";position: absolute;border-left: 1px solid gray;box-sizing: border-box;top: 0;bottom: 0;left: 50%;z-index: -1;}#sk-container-id-1 div.sk-parallel-item {display: flex;flex-direction: column;z-index: 1;position: relative;background-color: white;}#sk-container-id-1 div.sk-parallel-item:first-child::after {align-self: flex-end;width: 50%;}#sk-container-id-1 div.sk-parallel-item:last-child::after {align-self: flex-start;width: 50%;}#sk-container-id-1 div.sk-parallel-item:only-child::after {width: 0;}#sk-container-id-1 div.sk-dashed-wrapped {border: 1px dashed gray;margin: 0 0.4em 0.5em 0.4em;box-sizing: border-box;padding-bottom: 0.4em;background-color: white;}#sk-container-id-1 div.sk-label label {font-family: monospace;font-weight: bold;display: inline-block;line-height: 1.2em;}#sk-container-id-1 div.sk-label-container {text-align: center;}#sk-container-id-1 div.sk-container {/* jupyter's `normalize.less` sets `[hidden] { display: none; }` but bootstrap.min.css set `[hidden] { display: none !important; }` so we also need the `!important` here to be able to override the default hidden behavior on the sphinx rendered scikit-learn.org. See: https://github.com/scikit-learn/scikit-learn/issues/21755 */display: inline-block !important;position: relative;}#sk-container-id-1 div.sk-text-repr-fallback {display: none;}</style><div id=\"sk-container-id-1\" class=\"sk-top-container\"><div class=\"sk-text-repr-fallback\"><pre>LinearRegression()</pre><b>In a Jupyter environment, please rerun this cell to show the HTML representation or trust the notebook. <br />On GitHub, the HTML representation is unable to render, please try loading this page with nbviewer.org.</b></div><div class=\"sk-container\" hidden><div class=\"sk-item\"><div class=\"sk-estimator sk-toggleable\"><input class=\"sk-toggleable__control sk-hidden--visually\" id=\"sk-estimator-id-1\" type=\"checkbox\" checked><label for=\"sk-estimator-id-1\" class=\"sk-toggleable__label sk-toggleable__label-arrow\">LinearRegression</label><div class=\"sk-toggleable__content\"><pre>LinearRegression()</pre></div></div></div></div></div>"
      ],
      "text/plain": [
       "LinearRegression()"
      ]
     },
     "execution_count": 3,
     "metadata": {},
     "output_type": "execute_result"
    }
   ],
   "source": [
    "from sklearn.linear_model import LinearRegression\n",
    "\n",
    "# Initialize and train the model\n",
    "model = LinearRegression()\n",
    "model.fit(X_train, y_train)\n"
   ]
  },
  {
   "cell_type": "markdown",
   "id": "8b4d019b",
   "metadata": {},
   "source": [
    "### 4. Evaluate the Model:\n",
    "Evaluate the model on the test data using \n",
    "- Mean Squared Error (MSE) and \n",
    "- R-squared (R²) values."
   ]
  },
  {
   "cell_type": "code",
   "execution_count": 4,
   "id": "d0ffb43c",
   "metadata": {},
   "outputs": [
    {
     "name": "stdout",
     "output_type": "stream",
     "text": [
      "Mean Squared Error: 27136006.68726785\n",
      "R-squared: 0.9208841886639854\n"
     ]
    }
   ],
   "source": [
    "from sklearn.metrics import mean_squared_error, r2_score\n",
    "\n",
    "# Predict on the test set\n",
    "y_pred = model.predict(X_test)\n",
    "\n",
    "# Calculate MSE and R-squared\n",
    "mse = mean_squared_error(y_test, y_pred)\n",
    "r2 = r2_score(y_test, y_pred)\n",
    "\n",
    "print(f\"Mean Squared Error: {mse}\")\n",
    "print(f\"R-squared: {r2}\")\n"
   ]
  },
  {
   "cell_type": "markdown",
   "id": "2f92cd3f",
   "metadata": {},
   "source": [
    "### 5. Make Predictions:\n",
    "- Use the trained model to predict the salary of a new employee.\n",
    "- Example: Predict the salary for an employee with 7 years of experience and a Master's degree (education level = 2)."
   ]
  },
  {
   "cell_type": "code",
   "execution_count": 5,
   "id": "fb32dcd6",
   "metadata": {},
   "outputs": [
    {
     "name": "stdout",
     "output_type": "stream",
     "text": [
      "Predicted Salary for 7 years experience and Master's degree: $42,377.80\n"
     ]
    },
    {
     "name": "stderr",
     "output_type": "stream",
     "text": [
      "/Users/devarsh/anaconda3/lib/python3.11/site-packages/sklearn/base.py:464: UserWarning: X does not have valid feature names, but LinearRegression was fitted with feature names\n",
      "  warnings.warn(\n"
     ]
    }
   ],
   "source": [
    "# New employee data\n",
    "new_employee = np.array([[7, 2]])  # 7 years of experience, Master's degree\n",
    "predicted_salary = model.predict(new_employee)\n",
    "\n",
    "print(f\"Predicted Salary for 7 years experience and Master's degree: ${predicted_salary[0]:,.2f}\")\n"
   ]
  },
  {
   "cell_type": "markdown",
   "id": "0a7c9665",
   "metadata": {},
   "source": [
    "### 6. Visualizations (Optional):\n",
    "- Create scatter plots to visualize the relationship between experience, education, and salary.\n",
    "- Plot the model's predictions against the actual salary data.\n"
   ]
  },
  {
   "cell_type": "code",
   "execution_count": 6,
   "id": "8539f91d",
   "metadata": {},
   "outputs": [
    {
     "data": {
      "image/png": "[encoded data removed]",
      "text/plain": [
       "<Figure size 640x480 with 1 Axes>"
      ]
     },
     "metadata": {},
     "output_type": "display_data"
    }
   ],
   "source": [
    "import matplotlib.pyplot as plt\n",
    "\n",
    "# Scatter plot for experience vs salary\n",
    "plt.scatter(df['experience'], df['salary'], color='blue', label='Actual Salaries')\n",
    "plt.scatter(X_test['experience'], y_pred, color='red', label='Predicted Salaries')\n",
    "plt.xlabel('Years of Experience')\n",
    "plt.ylabel('Salary')\n",
    "plt.title('Experience vs Salary')\n",
    "plt.legend()\n",
    "plt.show()\n"
   ]
  },
  {
   "cell_type": "code",
   "execution_count": null,
   "id": "85751cca",
   "metadata": {},
   "outputs": [],
   "source": []
  }
 ],
 "metadata": {
  "kernelspec": {
   "display_name": "Python 3 (ipykernel)",
   "language": "python",
   "name": "python3"
  },
  "language_info": {
   "codemirror_mode": {
    "name": "ipython",
    "version": 3
   },
   "file_extension": ".py",
   "mimetype": "text/x-python",
   "name": "python",
   "nbconvert_exporter": "python",
   "pygments_lexer": "ipython3",
   "version": "3.11.5"
  }
 },
 "nbformat": 4,
 "nbformat_minor": 5
}
